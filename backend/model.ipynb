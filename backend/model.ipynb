{
 "metadata": {
  "language_info": {
   "codemirror_mode": {
    "name": "ipython",
    "version": 3
   },
   "file_extension": ".py",
   "mimetype": "text/x-python",
   "name": "python",
   "nbconvert_exporter": "python",
   "pygments_lexer": "ipython3",
   "version": "3.7.9-final"
  },
  "orig_nbformat": 2,
  "kernelspec": {
   "name": "python3",
   "display_name": "Python 3.7.9 64-bit ('mmr': conda)",
   "metadata": {
    "interpreter": {
     "hash": "ce539a60f45d94af71af3475e139bc0912b109af7aa64cb512d0be2b18e392ba"
    }
   }
  }
 },
 "nbformat": 4,
 "nbformat_minor": 2,
 "cells": [
  {
   "cell_type": "code",
   "execution_count": null,
   "metadata": {},
   "outputs": [],
   "source": [
    "import os\n",
    "\n",
    "import IPython.display as ipd\n",
    "import numpy as np\n",
    "import pandas as pd\n",
    "import matplotlib.pyplot as plt\n",
    "import seaborn as sns\n",
    "import sklearn as skl\n",
    "import sklearn.utils, sklearn.preprocessing, sklearn.decomposition, sklearn.svm\n",
    "from sklearn.neighbors import NearestNeighbors\n",
    "from utils import *\n",
    "\n",
    "import librosa\n",
    "import librosa.display"
   ]
  },
  {
   "source": [
    "# Load Data"
   ],
   "cell_type": "markdown",
   "metadata": {}
  },
  {
   "cell_type": "code",
   "execution_count": null,
   "metadata": {},
   "outputs": [],
   "source": [
    "fma_small_path = 'data/fma_small'\n",
    "fma_meta_path = 'data/fma_metadata'"
   ]
  },
  {
   "cell_type": "code",
   "execution_count": null,
   "metadata": {},
   "outputs": [],
   "source": [
    "audio_paths = get_all_audio_paths(fma_small_path)\n",
    "\n",
    "features = fma_load(f'{fma_meta_path}/features.csv')\n",
    "tracks = fma_load(f'{fma_meta_path}/tracks.csv')\n",
    "genres = fma_load(f'{fma_meta_path}/genres.csv')\n",
    "echonest = fma_load(f'{fma_meta_path}/echonest.csv')"
   ]
  },
  {
   "cell_type": "code",
   "execution_count": null,
   "metadata": {},
   "outputs": [],
   "source": [
    "# Filter out features for small\n",
    "\n",
    "# small = tracks['set', 'subset'] <= 'small'\n",
    "# features_small = features.loc[small]\n",
    "# features_small.to_csv('data/features_small.csv')\n",
    "# tracks_small = tracks.loc[small]\n",
    "# tracks_small.to_csv('data/tracks_small.csv')\n",
    "# genres_small = genres.loc[small]\n",
    "# genres_small.to_csv('data/genres_small.csv')\n",
    "# echonest_small = echonest.loc[small]\n",
    "# echonest_small.to_csv('data/echonest_small.csv')"
   ]
  },
  {
   "source": [
    "# Train KNN Model"
   ],
   "cell_type": "markdown",
   "metadata": {}
  },
  {
   "cell_type": "code",
   "execution_count": null,
   "metadata": {},
   "outputs": [],
   "source": [
    "small = tracks['set', 'subset'] <= 'small'\n",
    "\n",
    "train = tracks['set', 'split'] == 'training'\n",
    "test = tracks['set', 'split'] == 'test'\n",
    "\n",
    "y_train = tracks.loc[small & train, ('track', 'genre_top')]\n",
    "y_test = tracks.loc[small & test, ('track', 'genre_top')]\n",
    "X_train = features.loc[small & train, 'mfcc']\n",
    "X_test = features.loc[small & test, 'mfcc']\n",
    "\n",
    "print(f'{y_train.size} training examples, {y_test.size} testing examples')\n",
    "print(f'{X_train.shape[1]} features, {np.unique(y_train).size} classes')"
   ]
  },
  {
   "cell_type": "code",
   "execution_count": null,
   "metadata": {},
   "outputs": [],
   "source": [
    "X_train, y_train = skl.utils.shuffle(X_train, y_train, random_state=42)\n",
    "\n",
    "# Standardize features by removing the mean and scaling to unit variance.\n",
    "scaler = skl.preprocessing.StandardScaler(copy=False)\n",
    "scaler.fit_transform(X_train)\n",
    "scaler.transform(X_test)\n",
    "\n",
    "# Support vector classification.\n",
    "clf = skl.svm.SVC()\n",
    "clf.fit(X_train, y_train)\n",
    "score = clf.score(X_test, y_test)\n",
    "print('Accuracy: {:.2%}'.format(score))"
   ]
  },
  {
   "cell_type": "code",
   "execution_count": null,
   "metadata": {},
   "outputs": [],
   "source": [
    "nbrs = NearestNeighbors(n_neighbors=10, algorithm='auto').fit(X_train)"
   ]
  },
  {
   "source": [
    "# Query"
   ],
   "cell_type": "markdown",
   "metadata": {}
  },
  {
   "cell_type": "code",
   "execution_count": null,
   "metadata": {},
   "outputs": [],
   "source": [
    "# Query one song\n",
    "distances, indices = nbrs.kneighbors(X_train.head(1))\n",
    "sns.lineplot(x=[str(e) for e in indices[0]], y=distances[0])\n",
    "plt.xlabel('index')\n",
    "plt.ylabel('distance')"
   ]
  },
  {
   "cell_type": "code",
   "execution_count": null,
   "metadata": {},
   "outputs": [],
   "source": [
    "tracks.loc[tracks['set', 'subset'] == 'small'].loc[tracks['track', 'genre_top'].notnull()].loc[tracks['track', 'date_recorded'].notnull()]"
   ]
  }
 ]
}