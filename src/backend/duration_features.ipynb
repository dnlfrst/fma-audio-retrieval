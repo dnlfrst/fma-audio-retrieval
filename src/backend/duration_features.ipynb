{
 "metadata": {
  "language_info": {
   "codemirror_mode": {
    "name": "ipython",
    "version": 3
   },
   "file_extension": ".py",
   "mimetype": "text/x-python",
   "name": "python",
   "nbconvert_exporter": "python",
   "pygments_lexer": "ipython3",
   "version": "3.7.9-final"
  },
  "orig_nbformat": 2,
  "kernelspec": {
   "name": "python3",
   "display_name": "Python 3.7.9 64-bit ('mmr': conda)",
   "metadata": {
    "interpreter": {
     "hash": "ce539a60f45d94af71af3475e139bc0912b109af7aa64cb512d0be2b18e392ba"
    }
   }
  }
 },
 "nbformat": 4,
 "nbformat_minor": 2,
 "cells": [
  {
   "cell_type": "code",
   "execution_count": 1,
   "metadata": {},
   "outputs": [],
   "source": [
    "import os\n",
    "\n",
    "import IPython.display as ipd\n",
    "import numpy as np\n",
    "import pandas as pd\n",
    "import matplotlib.pyplot as plt\n",
    "import seaborn as sns\n",
    "import sklearn as skl\n",
    "import sklearn.utils, sklearn.preprocessing, sklearn.decomposition, sklearn.svm\n",
    "from sklearn.neighbors import NearestNeighbors\n",
    "from scipy import stats\n",
    "from utils import *\n",
    "\n",
    "import librosa\n",
    "import librosa.display\n",
    "\n",
    "import os\n",
    "import multiprocessing\n",
    "\n",
    "from tqdm import tqdm\n",
    "\n",
    "data_path = 'data'\n",
    "fma_small_path = 'data/fma_small'\n",
    "fma_meta_path = 'data/fma_metadata'"
   ]
  },
  {
   "cell_type": "code",
   "execution_count": 2,
   "metadata": {},
   "outputs": [],
   "source": [
    "tracks = fma_load(f'{data_path}/tracks_small.csv')"
   ]
  },
  {
   "cell_type": "code",
   "execution_count": 3,
   "metadata": {},
   "outputs": [],
   "source": [
    "def columns():\n",
    "    feature_sizes = dict(chroma_stft=12,\n",
    "                         chroma_cqt=12,\n",
    "                         chroma_cens=12,\n",
    "                         tonnetz=6,\n",
    "                         mfcc=20,\n",
    "                         rmse=1,\n",
    "                         zcr=1,\n",
    "                         spectral_centroid=1,\n",
    "                         spectral_bandwidth=1,\n",
    "                         spectral_contrast=7,\n",
    "                         spectral_rolloff=1)\n",
    "    moments = ('mean', 'std', 'skew', 'kurtosis', 'median', 'min', 'max')\n",
    "\n",
    "    columns = []\n",
    "    for name, size in feature_sizes.items():\n",
    "        for moment in moments:\n",
    "            it = ((name, moment, '{:02d}'.format(i+1)) for i in range(size))\n",
    "            columns.extend(it)\n",
    "\n",
    "    names = ('feature', 'statistics', 'number')\n",
    "    columns = pd.MultiIndex.from_tuples(columns, names=names)\n",
    "\n",
    "    # More efficient to slice if indexes are sorted.\n",
    "    return columns.sort_values()\n",
    "\n",
    "def compute_features(params):\n",
    "    [tid, duration] = params\n",
    "\n",
    "    print(f'computing features for: {duration}s of {tid}.\\n')\n",
    "\n",
    "    features = pd.Series(index=columns(), dtype=np.float32, name=f'{tid}-{duration}')\n",
    "\n",
    "    def feature_stats(name, values):\n",
    "        features[name, 'mean'] = np.mean(values, axis=1)\n",
    "        features[name, 'std'] = np.std(values, axis=1)\n",
    "        features[name, 'skew'] = stats.skew(values, axis=1)\n",
    "        features[name, 'kurtosis'] = stats.kurtosis(values, axis=1)\n",
    "        features[name, 'median'] = np.median(values, axis=1)\n",
    "        features[name, 'min'] = np.min(values, axis=1)\n",
    "        features[name, 'max'] = np.max(values, axis=1)\n",
    "\n",
    "\n",
    "    filepath = f'{fma_small_path}/{tid[0:3]}/{tid}.mp3'\n",
    "    x, sr = librosa.load(filepath, sr=None, mono=True, duration=duration)  # kaiser_fast\n",
    "\n",
    "    f = librosa.feature.zero_crossing_rate(x, frame_length=2048, hop_length=512)\n",
    "    feature_stats('zcr', f)\n",
    "\n",
    "    cqt = np.abs(librosa.cqt(x, sr=sr, hop_length=512, bins_per_octave=12,\n",
    "                                n_bins=7*12, tuning=None))\n",
    "    assert cqt.shape[0] == 7 * 12\n",
    "    assert np.ceil(len(x)/512) <= cqt.shape[1] <= np.ceil(len(x)/512)+1\n",
    "\n",
    "    f = librosa.feature.chroma_cqt(C=cqt, n_chroma=12, n_octaves=7)\n",
    "    feature_stats('chroma_cqt', f)\n",
    "    f = librosa.feature.chroma_cens(C=cqt, n_chroma=12, n_octaves=7)\n",
    "    feature_stats('chroma_cens', f)\n",
    "    f = librosa.feature.tonnetz(chroma=f)\n",
    "    feature_stats('tonnetz', f)\n",
    "\n",
    "    del cqt\n",
    "    stft = np.abs(librosa.stft(x, n_fft=2048, hop_length=512))\n",
    "    assert stft.shape[0] == 1 + 2048 // 2\n",
    "    assert np.ceil(len(x)/512) <= stft.shape[1] <= np.ceil(len(x)/512)+1\n",
    "    del x\n",
    "\n",
    "    f = librosa.feature.chroma_stft(S=stft**2, n_chroma=12)\n",
    "    feature_stats('chroma_stft', f)\n",
    "\n",
    "    f = librosa.feature.rms(S=stft)\n",
    "    feature_stats('rmse', f)\n",
    "\n",
    "    f = librosa.feature.spectral_centroid(S=stft)\n",
    "    feature_stats('spectral_centroid', f)\n",
    "    f = librosa.feature.spectral_bandwidth(S=stft)\n",
    "    feature_stats('spectral_bandwidth', f)\n",
    "    f = librosa.feature.spectral_contrast(S=stft, n_bands=6)\n",
    "    feature_stats('spectral_contrast', f)\n",
    "    f = librosa.feature.spectral_rolloff(S=stft)\n",
    "    feature_stats('spectral_rolloff', f)\n",
    "\n",
    "    mel = librosa.feature.melspectrogram(sr=sr, S=stft**2)\n",
    "    del stft\n",
    "    f = librosa.feature.mfcc(S=librosa.power_to_db(mel), n_mfcc=20)\n",
    "    feature_stats('mfcc', f)\n",
    "\n",
    "    return features"
   ]
  },
  {
   "cell_type": "code",
   "execution_count": 4,
   "metadata": {},
   "outputs": [
    {
     "output_type": "stream",
     "name": "stdout",
     "text": [
      "computing features for: 2s of 000002.\n\n"
     ]
    }
   ],
   "source": [
    "param = ['000002', 2]\n",
    "f = compute_features(param)"
   ]
  },
  {
   "cell_type": "code",
   "execution_count": 5,
   "metadata": {},
   "outputs": [
    {
     "output_type": "execute_result",
     "data": {
      "text/plain": [
       "            album                                                          \\\n",
       "         comments        date_created date_released engineer favorites id   \n",
       "track_id                                                                    \n",
       "2               0 2008-11-26 01:44:45    2009-01-05      NaN         4  1   \n",
       "5               0 2008-11-26 01:44:45    2009-01-05      NaN         4  1   \n",
       "\n",
       "                                            ...       track           \\\n",
       "         information listens producer tags  ... information interest   \n",
       "track_id                                    ...                        \n",
       "2            <p></p>    6073      NaN   []  ...         NaN     4656   \n",
       "5            <p></p>    6073      NaN   []  ...         NaN     1933   \n",
       "\n",
       "                                                                           \\\n",
       "         language_code                                            license   \n",
       "track_id                                                                    \n",
       "2                   en  Attribution-NonCommercial-ShareAlike 3.0 Inter...   \n",
       "5                   en  Attribution-NonCommercial-ShareAlike 3.0 Inter...   \n",
       "\n",
       "                                                             \n",
       "         listens lyricist number publisher tags       title  \n",
       "track_id                                                     \n",
       "2           1293      NaN      3       NaN   []        Food  \n",
       "5           1151      NaN      6       NaN   []  This World  \n",
       "\n",
       "[2 rows x 52 columns]"
      ],
      "text/html": "<div>\n<style scoped>\n    .dataframe tbody tr th:only-of-type {\n        vertical-align: middle;\n    }\n\n    .dataframe tbody tr th {\n        vertical-align: top;\n    }\n\n    .dataframe thead tr th {\n        text-align: left;\n    }\n\n    .dataframe thead tr:last-of-type th {\n        text-align: right;\n    }\n</style>\n<table border=\"1\" class=\"dataframe\">\n  <thead>\n    <tr>\n      <th></th>\n      <th colspan=\"10\" halign=\"left\">album</th>\n      <th>...</th>\n      <th colspan=\"10\" halign=\"left\">track</th>\n    </tr>\n    <tr>\n      <th></th>\n      <th>comments</th>\n      <th>date_created</th>\n      <th>date_released</th>\n      <th>engineer</th>\n      <th>favorites</th>\n      <th>id</th>\n      <th>information</th>\n      <th>listens</th>\n      <th>producer</th>\n      <th>tags</th>\n      <th>...</th>\n      <th>information</th>\n      <th>interest</th>\n      <th>language_code</th>\n      <th>license</th>\n      <th>listens</th>\n      <th>lyricist</th>\n      <th>number</th>\n      <th>publisher</th>\n      <th>tags</th>\n      <th>title</th>\n    </tr>\n    <tr>\n      <th>track_id</th>\n      <th></th>\n      <th></th>\n      <th></th>\n      <th></th>\n      <th></th>\n      <th></th>\n      <th></th>\n      <th></th>\n      <th></th>\n      <th></th>\n      <th></th>\n      <th></th>\n      <th></th>\n      <th></th>\n      <th></th>\n      <th></th>\n      <th></th>\n      <th></th>\n      <th></th>\n      <th></th>\n      <th></th>\n    </tr>\n  </thead>\n  <tbody>\n    <tr>\n      <th>2</th>\n      <td>0</td>\n      <td>2008-11-26 01:44:45</td>\n      <td>2009-01-05</td>\n      <td>NaN</td>\n      <td>4</td>\n      <td>1</td>\n      <td>&lt;p&gt;&lt;/p&gt;</td>\n      <td>6073</td>\n      <td>NaN</td>\n      <td>[]</td>\n      <td>...</td>\n      <td>NaN</td>\n      <td>4656</td>\n      <td>en</td>\n      <td>Attribution-NonCommercial-ShareAlike 3.0 Inter...</td>\n      <td>1293</td>\n      <td>NaN</td>\n      <td>3</td>\n      <td>NaN</td>\n      <td>[]</td>\n      <td>Food</td>\n    </tr>\n    <tr>\n      <th>5</th>\n      <td>0</td>\n      <td>2008-11-26 01:44:45</td>\n      <td>2009-01-05</td>\n      <td>NaN</td>\n      <td>4</td>\n      <td>1</td>\n      <td>&lt;p&gt;&lt;/p&gt;</td>\n      <td>6073</td>\n      <td>NaN</td>\n      <td>[]</td>\n      <td>...</td>\n      <td>NaN</td>\n      <td>1933</td>\n      <td>en</td>\n      <td>Attribution-NonCommercial-ShareAlike 3.0 Inter...</td>\n      <td>1151</td>\n      <td>NaN</td>\n      <td>6</td>\n      <td>NaN</td>\n      <td>[]</td>\n      <td>This World</td>\n    </tr>\n  </tbody>\n</table>\n<p>2 rows × 52 columns</p>\n</div>"
     },
     "metadata": {},
     "execution_count": 5
    }
   ],
   "source": [
    "tracks = tracks.head(2)\n",
    "tracks"
   ]
  },
  {
   "cell_type": "code",
   "execution_count": 6,
   "metadata": {},
   "outputs": [
    {
     "output_type": "stream",
     "name": "stdout",
     "text": [
      "Working with 18 processes.\n[['000002', 2], ['000002', 4], ['000002', 6], ['000002', 8], ['000002', 10], ['000002', 12], ['000002', 14], ['000002', 16], ['000002', 18], ['000002', 20], ['000002', 22], ['000002', 24], ['000002', 26], ['000002', 28], ['000002', 30], ['000005', 2], ['000005', 4], ['000005', 6], ['000005', 8], ['000005', 10], ['000005', 12], ['000005', 14], ['000005', 16], ['000005', 18], ['000005', 20], ['000005', 22], ['000005', 24], ['000005', 26], ['000005', 28], ['000005', 30]]\n30\n"
     ]
    }
   ],
   "source": [
    "# features = pd.DataFrame(index=tracks.index,\n",
    "#                         columns=columns(), dtype=np.float32)\n",
    "features = pd.DataFrame(columns=columns(), dtype=np.float32)\n",
    "# More than usable CPUs to be CPU bound, not I/O bound. Beware memory.\n",
    "nb_workers = int(1.5 * os.cpu_count())\n",
    "\n",
    "# Longest is ~11,000 seconds. Limit processes to avoid memory errors.\n",
    "# all are lower than 600\n",
    "# table = ((5000, 1), (3000, 3), (2000, 5), (1000, 10), (0, nb_workers))\n",
    "# for duration, nb_workers in table:\n",
    "print('Working with {} processes.'.format(nb_workers))\n",
    "\n",
    "# tids = tracks[tracks['track', 'duration'] >= duration].index\n",
    "# tracks.drop(tids, axis=0, inplace=True)\n",
    "\n",
    "tids = ['{:06d}'.format(i) for i in tracks.index]\n",
    "frame_size = 2\n",
    "whole_duration = 30\n",
    "durations = list(range(frame_size, whole_duration+1, frame_size))\n",
    "\n",
    "params = [ [i, d] for i in tids for d in durations]\n",
    "print(params)\n",
    "print(len(params))"
   ]
  },
  {
   "cell_type": "code",
   "execution_count": 7,
   "metadata": {},
   "outputs": [],
   "source": [
    "pool = multiprocessing.Pool(nb_workers)\n",
    "\n",
    "# it = pool.imap_unordered(compute_features, tids)\n",
    "it = pool.imap_unordered(compute_features, params)"
   ]
  },
  {
   "cell_type": "code",
   "execution_count": 8,
   "metadata": {},
   "outputs": [
    {
     "output_type": "stream",
     "name": "stderr",
     "text": [
      "100%|██████████| 30/30 [00:05<00:00,  5.17it/s]\n"
     ]
    }
   ],
   "source": [
    "for i, row in enumerate(tqdm(it, total=len(params))):\n",
    "    features.loc[row.name] = row\n",
    "    \n",
    "    #TODO: need work. why exist NA?\n",
    "    if i % 1000 == 0:\n",
    "        features.to_csv('data/duration_features.csv')\n",
    "\n",
    "features.to_csv('data/duration_features.csv')"
   ]
  },
  {
   "cell_type": "code",
   "execution_count": 9,
   "metadata": {},
   "outputs": [
    {
     "output_type": "execute_result",
     "data": {
      "text/plain": [
       "feature    chroma_cens                                                    \\\n",
       "statistics    kurtosis                                                     \n",
       "number              01        02        03        04        05        06   \n",
       "000005-2     -0.739629 -0.556086 -1.225924 -0.349550 -1.432164 -1.053181   \n",
       "000002-2     -1.362567 -1.187726  0.080128  0.131664 -1.207001  1.873778   \n",
       "000002-4     -0.638055 -1.313917 -0.503075  1.368423 -0.402402 -0.781425   \n",
       "000005-4     -0.970172 -0.053800 -1.285565 -0.562506 -0.134861 -1.430826   \n",
       "000005-6     -1.137293 -0.764389 -1.313448 -0.136405 -0.314780 -1.003491   \n",
       "\n",
       "feature                                             ...   tonnetz            \\\n",
       "statistics                                          ...       std             \n",
       "number            07        08        09        10  ...        04        05   \n",
       "000005-2   -0.004125  1.206131 -1.416585  0.967784  ...  0.096407  0.026804   \n",
       "000002-2   -0.605126 -0.551435 -1.265933 -0.372783  ...  0.104048  0.021292   \n",
       "000002-4   -0.343968 -0.495769 -0.870274 -0.375500  ...  0.137629  0.019840   \n",
       "000005-4   -0.691401  1.399996 -0.498214  2.961234  ...  0.087989  0.037871   \n",
       "000005-6   -0.629377  1.320236 -0.504661  4.350224  ...  0.102904  0.033950   \n",
       "\n",
       "feature                    zcr                                          \\\n",
       "statistics            kurtosis       max      mean    median       min   \n",
       "number            06        01        01        01        01        01   \n",
       "000005-2    0.016525  1.845586  0.215820  0.065991  0.059082  0.007812   \n",
       "000002-2    0.030223  6.505650  0.351562  0.091543  0.075195  0.011719   \n",
       "000002-4    0.031120  5.951344  0.351562  0.093072  0.079590  0.006836   \n",
       "000005-4    0.026276  1.824047  0.225586  0.064395  0.053711  0.007812   \n",
       "000005-6    0.027398  2.945787  0.225586  0.056057  0.043457  0.004883   \n",
       "\n",
       "feature                         \n",
       "statistics      skew       std  \n",
       "number            01        01  \n",
       "000005-2    1.268123  0.039375  \n",
       "000002-2    2.477756  0.060097  \n",
       "000002-4    2.187647  0.053671  \n",
       "000005-4    1.429513  0.046289  \n",
       "000005-6    1.680217  0.042505  \n",
       "\n",
       "[5 rows x 518 columns]"
      ],
      "text/html": "<div>\n<style scoped>\n    .dataframe tbody tr th:only-of-type {\n        vertical-align: middle;\n    }\n\n    .dataframe tbody tr th {\n        vertical-align: top;\n    }\n\n    .dataframe thead tr th {\n        text-align: left;\n    }\n</style>\n<table border=\"1\" class=\"dataframe\">\n  <thead>\n    <tr>\n      <th>feature</th>\n      <th colspan=\"10\" halign=\"left\">chroma_cens</th>\n      <th>...</th>\n      <th colspan=\"3\" halign=\"left\">tonnetz</th>\n      <th colspan=\"7\" halign=\"left\">zcr</th>\n    </tr>\n    <tr>\n      <th>statistics</th>\n      <th colspan=\"10\" halign=\"left\">kurtosis</th>\n      <th>...</th>\n      <th colspan=\"3\" halign=\"left\">std</th>\n      <th>kurtosis</th>\n      <th>max</th>\n      <th>mean</th>\n      <th>median</th>\n      <th>min</th>\n      <th>skew</th>\n      <th>std</th>\n    </tr>\n    <tr>\n      <th>number</th>\n      <th>01</th>\n      <th>02</th>\n      <th>03</th>\n      <th>04</th>\n      <th>05</th>\n      <th>06</th>\n      <th>07</th>\n      <th>08</th>\n      <th>09</th>\n      <th>10</th>\n      <th>...</th>\n      <th>04</th>\n      <th>05</th>\n      <th>06</th>\n      <th>01</th>\n      <th>01</th>\n      <th>01</th>\n      <th>01</th>\n      <th>01</th>\n      <th>01</th>\n      <th>01</th>\n    </tr>\n  </thead>\n  <tbody>\n    <tr>\n      <th>000005-2</th>\n      <td>-0.739629</td>\n      <td>-0.556086</td>\n      <td>-1.225924</td>\n      <td>-0.349550</td>\n      <td>-1.432164</td>\n      <td>-1.053181</td>\n      <td>-0.004125</td>\n      <td>1.206131</td>\n      <td>-1.416585</td>\n      <td>0.967784</td>\n      <td>...</td>\n      <td>0.096407</td>\n      <td>0.026804</td>\n      <td>0.016525</td>\n      <td>1.845586</td>\n      <td>0.215820</td>\n      <td>0.065991</td>\n      <td>0.059082</td>\n      <td>0.007812</td>\n      <td>1.268123</td>\n      <td>0.039375</td>\n    </tr>\n    <tr>\n      <th>000002-2</th>\n      <td>-1.362567</td>\n      <td>-1.187726</td>\n      <td>0.080128</td>\n      <td>0.131664</td>\n      <td>-1.207001</td>\n      <td>1.873778</td>\n      <td>-0.605126</td>\n      <td>-0.551435</td>\n      <td>-1.265933</td>\n      <td>-0.372783</td>\n      <td>...</td>\n      <td>0.104048</td>\n      <td>0.021292</td>\n      <td>0.030223</td>\n      <td>6.505650</td>\n      <td>0.351562</td>\n      <td>0.091543</td>\n      <td>0.075195</td>\n      <td>0.011719</td>\n      <td>2.477756</td>\n      <td>0.060097</td>\n    </tr>\n    <tr>\n      <th>000002-4</th>\n      <td>-0.638055</td>\n      <td>-1.313917</td>\n      <td>-0.503075</td>\n      <td>1.368423</td>\n      <td>-0.402402</td>\n      <td>-0.781425</td>\n      <td>-0.343968</td>\n      <td>-0.495769</td>\n      <td>-0.870274</td>\n      <td>-0.375500</td>\n      <td>...</td>\n      <td>0.137629</td>\n      <td>0.019840</td>\n      <td>0.031120</td>\n      <td>5.951344</td>\n      <td>0.351562</td>\n      <td>0.093072</td>\n      <td>0.079590</td>\n      <td>0.006836</td>\n      <td>2.187647</td>\n      <td>0.053671</td>\n    </tr>\n    <tr>\n      <th>000005-4</th>\n      <td>-0.970172</td>\n      <td>-0.053800</td>\n      <td>-1.285565</td>\n      <td>-0.562506</td>\n      <td>-0.134861</td>\n      <td>-1.430826</td>\n      <td>-0.691401</td>\n      <td>1.399996</td>\n      <td>-0.498214</td>\n      <td>2.961234</td>\n      <td>...</td>\n      <td>0.087989</td>\n      <td>0.037871</td>\n      <td>0.026276</td>\n      <td>1.824047</td>\n      <td>0.225586</td>\n      <td>0.064395</td>\n      <td>0.053711</td>\n      <td>0.007812</td>\n      <td>1.429513</td>\n      <td>0.046289</td>\n    </tr>\n    <tr>\n      <th>000005-6</th>\n      <td>-1.137293</td>\n      <td>-0.764389</td>\n      <td>-1.313448</td>\n      <td>-0.136405</td>\n      <td>-0.314780</td>\n      <td>-1.003491</td>\n      <td>-0.629377</td>\n      <td>1.320236</td>\n      <td>-0.504661</td>\n      <td>4.350224</td>\n      <td>...</td>\n      <td>0.102904</td>\n      <td>0.033950</td>\n      <td>0.027398</td>\n      <td>2.945787</td>\n      <td>0.225586</td>\n      <td>0.056057</td>\n      <td>0.043457</td>\n      <td>0.004883</td>\n      <td>1.680217</td>\n      <td>0.042505</td>\n    </tr>\n  </tbody>\n</table>\n<p>5 rows × 518 columns</p>\n</div>"
     },
     "metadata": {},
     "execution_count": 9
    }
   ],
   "source": [
    "duration_features = fma_load('data/duration_features.csv') \n",
    "duration_features.head()"
   ]
  }
 ]
}